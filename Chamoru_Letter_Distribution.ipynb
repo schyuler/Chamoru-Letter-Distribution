{
 "cells": [
  {
   "cell_type": "code",
   "execution_count": null,
   "metadata": {},
   "outputs": [],
   "source": [
    "\"\"\"\n",
    "June 28, 2020   Chamoru Letter Distribution   Schyuler Lujan\n",
    "Reads the contents of any text file containing Chamoru text and counts the frequency of each letter within the given\n",
    "text file.\n",
    "\n",
    "Classes:\n",
    "\n",
    "    Chamoru_Alphabet():  Creates a dictionary of the Chamoru alphabet with all values at 0\n",
    "    Read_File():         Opens the txt file, reads through each letter and increments associated letter counts in \n",
    "                         dictionary\n",
    "\"\"\""
   ]
  },
  {
   "cell_type": "code",
   "execution_count": 1,
   "metadata": {},
   "outputs": [],
   "source": [
    "# import relevant libraries\n",
    "import os"
   ]
  },
  {
   "cell_type": "code",
   "execution_count": 2,
   "metadata": {},
   "outputs": [],
   "source": [
    "class Chamoru_Alphabet(object):\n",
    "    \"\"\"Creates a template for a dictionary of the Chamoru Alphabet\"\"\"\n",
    "    def __init__(self):\n",
    "        \"\"\"Creates an empty dictionary of the Chamoru alphabet\"\"\"\n",
    "        self.alphabet = {\"'\":0, \"a\":0, \"å\":0, \"b\":0, \"ch\":0, \"d\":0, \"e\":0,\n",
    "            \"f\":0, \"g\":0, \"h\":0, \"i\":0, \"k\":0, \"l\":0, \"m\":0,\n",
    "            \"n\":0, \"ñ\":0, \"ng\":0, \"o\":0, \"p\":0, \"r\":0, \"s\":0,\n",
    "            \"t\":0, \"u\":0, \"y\":0}"
   ]
  },
  {
   "cell_type": "code",
   "execution_count": 9,
   "metadata": {},
   "outputs": [],
   "source": [
    "class Read_Files(Chamoru_Alphabet):\n",
    "    \"\"\"Opens a series of 30 text files and populates self.alphabet with letter counts\"\"\"\n",
    "    def __init__(self):\n",
    "        super().__init__()\n",
    "        for i in range(1,31):\n",
    "            filename = \"f\"+str(i)+\".txt\"\n",
    "            file = open(filename, 'r', encoding='utf8')\n",
    "            file = file.readlines()[2:] # skip the author and media type lines\n",
    "            for line in file:\n",
    "                line = line.lower().replace(\"’\",\"'\")\n",
    "                for i in range(len(line)):\n",
    "                    if line[i] == \"c\" and line[i+1] == \"h\":\n",
    "                        self.alphabet['ch'] += 1\n",
    "                        self.alphabet['h'] -= 1\n",
    "                    if line[i] == \"n\" and line[i+1] == \"g\":\n",
    "                        self.alphabet['ng'] += 1\n",
    "                        self.alphabet['n'] -= 1\n",
    "                        self.alphabet['g'] -= 1\n",
    "                    else:\n",
    "                        for key in self.alphabet.keys():\n",
    "                            if key == line[i]:\n",
    "                                self.alphabet[line[i]] += 1             "
   ]
  },
  {
   "cell_type": "code",
   "execution_count": 12,
   "metadata": {},
   "outputs": [],
   "source": [
    "if __name__==\"__main__\":\n",
    "    alphabet = Chamoru_Alphabet()\n",
    "    readfiles = Read_Files()\n",
    "    letters = pd.DataFrame(readfiles.alphabet.items(), columns=['Letter', 'Count'])\n",
    "    letters.to_csv('chamoru_letters.csv')"
   ]
  }
 ],
 "metadata": {
  "kernelspec": {
   "display_name": "Python 3",
   "language": "python",
   "name": "python3"
  },
  "language_info": {
   "codemirror_mode": {
    "name": "ipython",
    "version": 3
   },
   "file_extension": ".py",
   "mimetype": "text/x-python",
   "name": "python",
   "nbconvert_exporter": "python",
   "pygments_lexer": "ipython3",
   "version": "3.7.3"
  }
 },
 "nbformat": 4,
 "nbformat_minor": 2
}
